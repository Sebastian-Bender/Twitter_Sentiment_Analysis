{
 "cells": [
  {
   "cell_type": "code",
   "execution_count": 22,
   "metadata": {
    "id": "-jgTIRb4WQzE"
   },
   "outputs": [],
   "source": [
    "import tweepy as tw\n",
    "import numpy as np\n",
    "import pandas as pd\n",
    "from matplotlib import pyplot as plt\n",
    "\n",
    "import nltk\n",
    "from nltk.corpus import stopwords\n",
    "\n",
    "from textblob import Word, TextBlob\n",
    "\n",
    "nltk.download('stopwords')\n",
    "nltk.download('wordnet')\n",
    "stop_words = stopwords.words('english')\n",
    "custom_stopwords = ['RT', search_query]"
   ]
  },
  {
   "cell_type": "code",
   "execution_count": 52,
   "metadata": {
    "colab": {
     "base_uri": "https://localhost:8080/",
     "height": 236
    },
    "id": "ZLfSXM-VhZry",
    "outputId": "1ba01c85-452d-4888-98e5-eebd9b213980"
   },
   "outputs": [],
   "source": [
    "file = open('api_access.txt', 'r')\n",
    "content = [] \n",
    "for line in file:\n",
    "    content.append(line.strip())\n",
    "API_KEY, API_KEY_SECRET, BEARER_TOKEN, ACCESS_TOKEN, ACCESS_TOKEN_SECRET = content"
   ]
  },
  {
   "cell_type": "code",
   "execution_count": 7,
   "metadata": {
    "id": "N9cbOExuoBaD"
   },
   "outputs": [],
   "source": [
    "client = tw.Client(bearer_token=BEARER_TOKEN)"
   ]
  },
  {
   "cell_type": "code",
   "execution_count": null,
   "metadata": {
    "colab": {
     "base_uri": "https://localhost:8080/",
     "height": 35
    },
    "id": "bRvf7HQOX_H8",
    "outputId": "1d9ca177-422a-4542-ca71-7fd5bafc50ba"
   },
   "outputs": [],
   "source": [
    "search_query = '#elonmusk'\n",
    "\n",
    "query = client.search_recent_tweets(query=search_query, tweet_fields=['created_at'], max_results=100)\n",
    "\n",
    "tweets = [{'Tweet':tweet.text, 'Timestamp':tweet.created_at} for tweet in query.data]"
   ]
  },
  {
   "cell_type": "code",
   "execution_count": 39,
   "metadata": {
    "colab": {
     "base_uri": "https://localhost:8080/",
     "height": 363
    },
    "id": "aFRVxBhPmFeS",
    "outputId": "40650550-c7aa-4ffa-f9d0-b6e2a19d3bd4"
   },
   "outputs": [
    {
     "data": {
      "text/html": [
       "<div>\n",
       "<style scoped>\n",
       "    .dataframe tbody tr th:only-of-type {\n",
       "        vertical-align: middle;\n",
       "    }\n",
       "\n",
       "    .dataframe tbody tr th {\n",
       "        vertical-align: top;\n",
       "    }\n",
       "\n",
       "    .dataframe thead th {\n",
       "        text-align: right;\n",
       "    }\n",
       "</style>\n",
       "<table border=\"1\" class=\"dataframe\">\n",
       "  <thead>\n",
       "    <tr style=\"text-align: right;\">\n",
       "      <th></th>\n",
       "      <th>Tweet</th>\n",
       "      <th>Timestamp</th>\n",
       "    </tr>\n",
       "  </thead>\n",
       "  <tbody>\n",
       "    <tr>\n",
       "      <th>0</th>\n",
       "      <td>You should just give up and climax. #NoNutNove...</td>\n",
       "      <td>2022-11-02 13:03:59+00:00</td>\n",
       "    </tr>\n",
       "    <tr>\n",
       "      <th>1</th>\n",
       "      <td>No nut November is lame. Nut whenever you want...</td>\n",
       "      <td>2022-11-02 13:03:58+00:00</td>\n",
       "    </tr>\n",
       "    <tr>\n",
       "      <th>2</th>\n",
       "      <td>Je sens que ça va être le #NoNutNovember le pl...</td>\n",
       "      <td>2022-11-02 13:03:53+00:00</td>\n",
       "    </tr>\n",
       "    <tr>\n",
       "      <th>3</th>\n",
       "      <td>RT @EyNimor: #NoNutNovember ? Non merci...</td>\n",
       "      <td>2022-11-02 13:03:49+00:00</td>\n",
       "    </tr>\n",
       "    <tr>\n",
       "      <th>4</th>\n",
       "      <td>Oh shit its #NoNutNovember... SON OF A BI-</td>\n",
       "      <td>2022-11-02 13:03:45+00:00</td>\n",
       "    </tr>\n",
       "    <tr>\n",
       "      <th>...</th>\n",
       "      <td>...</td>\n",
       "      <td>...</td>\n",
       "    </tr>\n",
       "    <tr>\n",
       "      <th>95</th>\n",
       "      <td>RT @petgirlfwen: i could help u fail #NoNutNov...</td>\n",
       "      <td>2022-11-02 12:59:27+00:00</td>\n",
       "    </tr>\n",
       "    <tr>\n",
       "      <th>96</th>\n",
       "      <td>RT @blacked4everQOS: Retweet if #NonutNovember...</td>\n",
       "      <td>2022-11-02 12:59:18+00:00</td>\n",
       "    </tr>\n",
       "    <tr>\n",
       "      <th>97</th>\n",
       "      <td>RT @violetsaucy: fail #NoNutNovember for me ht...</td>\n",
       "      <td>2022-11-02 12:59:18+00:00</td>\n",
       "    </tr>\n",
       "    <tr>\n",
       "      <th>98</th>\n",
       "      <td>RT @UkrainianCream: walking around in public l...</td>\n",
       "      <td>2022-11-02 12:59:16+00:00</td>\n",
       "    </tr>\n",
       "    <tr>\n",
       "      <th>99</th>\n",
       "      <td>RT @MegaFreedom1274: #NoNutNovember i win http...</td>\n",
       "      <td>2022-11-02 12:59:16+00:00</td>\n",
       "    </tr>\n",
       "  </tbody>\n",
       "</table>\n",
       "<p>100 rows × 2 columns</p>\n",
       "</div>"
      ],
      "text/plain": [
       "                                                Tweet  \\\n",
       "0   You should just give up and climax. #NoNutNove...   \n",
       "1   No nut November is lame. Nut whenever you want...   \n",
       "2   Je sens que ça va être le #NoNutNovember le pl...   \n",
       "3          RT @EyNimor: #NoNutNovember ? Non merci...   \n",
       "4          Oh shit its #NoNutNovember... SON OF A BI-   \n",
       "..                                                ...   \n",
       "95  RT @petgirlfwen: i could help u fail #NoNutNov...   \n",
       "96  RT @blacked4everQOS: Retweet if #NonutNovember...   \n",
       "97  RT @violetsaucy: fail #NoNutNovember for me ht...   \n",
       "98  RT @UkrainianCream: walking around in public l...   \n",
       "99  RT @MegaFreedom1274: #NoNutNovember i win http...   \n",
       "\n",
       "                   Timestamp  \n",
       "0  2022-11-02 13:03:59+00:00  \n",
       "1  2022-11-02 13:03:58+00:00  \n",
       "2  2022-11-02 13:03:53+00:00  \n",
       "3  2022-11-02 13:03:49+00:00  \n",
       "4  2022-11-02 13:03:45+00:00  \n",
       "..                       ...  \n",
       "95 2022-11-02 12:59:27+00:00  \n",
       "96 2022-11-02 12:59:18+00:00  \n",
       "97 2022-11-02 12:59:18+00:00  \n",
       "98 2022-11-02 12:59:16+00:00  \n",
       "99 2022-11-02 12:59:16+00:00  \n",
       "\n",
       "[100 rows x 2 columns]"
      ]
     },
     "execution_count": 39,
     "metadata": {},
     "output_type": "execute_result"
    }
   ],
   "source": [
    "df = pd.DataFrame(tweets)\n",
    "df"
   ]
  },
  {
   "cell_type": "code",
   "execution_count": null,
   "metadata": {
    "id": "HAVNYXjZQs6T"
   },
   "outputs": [],
   "source": []
  },
  {
   "cell_type": "code",
   "execution_count": 40,
   "metadata": {
    "id": "CvSu0A4oUB9k"
   },
   "outputs": [],
   "source": [
    "def preprocess_tweets(tweet, custom_stopwords):\n",
    "    preprocessed_tweet = tweet\n",
    "    preprocessed_tweet.replace('[^\\w\\s]', '')\n",
    "    preprocessed_tweet = \" \".join(word for word in preprocessed_tweet.split() if word not in stop_words)\n",
    "    preprocessed_tweet = \" \".join(word for word in preprocessed_tweet.split() if word not in custom_stopwords)\n",
    "    preprocessed_tweet = \" \".join(Word(word).lemmatize() for word in preprocessed_tweet.split())\n",
    "\n",
    "    return preprocessed_tweet"
   ]
  },
  {
   "cell_type": "code",
   "execution_count": null,
   "metadata": {},
   "outputs": [],
   "source": []
  }
 ],
 "metadata": {
  "colab": {
   "collapsed_sections": [],
   "provenance": []
  },
  "kernelspec": {
   "display_name": "Python 3 (ipykernel)",
   "language": "python",
   "name": "python3"
  },
  "language_info": {
   "codemirror_mode": {
    "name": "ipython",
    "version": 3
   },
   "file_extension": ".py",
   "mimetype": "text/x-python",
   "name": "python",
   "nbconvert_exporter": "python",
   "pygments_lexer": "ipython3",
   "version": "3.10.6"
  }
 },
 "nbformat": 4,
 "nbformat_minor": 1
}
